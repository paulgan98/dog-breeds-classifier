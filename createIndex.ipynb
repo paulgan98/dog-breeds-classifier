{
 "cells": [
  {
   "cell_type": "code",
   "execution_count": 2,
   "metadata": {},
   "outputs": [
    {
     "data": {
      "text/plain": [
       "<torch._C.Generator at 0x7fea99b9a750>"
      ]
     },
     "execution_count": 2,
     "metadata": {},
     "output_type": "execute_result"
    }
   ],
   "source": [
    "import pandas as pd\n",
    "from os.path import join\n",
    "import os\n",
    "import numpy as np\n",
    "import matplotlib.pyplot as plt\n",
    "from math import ceil\n",
    "\n",
    "import torch\n",
    "from torch.utils.data import Dataset, DataLoader\n",
    "from torchvision import transforms\n",
    "from PIL import Image\n",
    "import cv2\n",
    "\n",
    "from torch_predict import predict\n",
    "torch.manual_seed(42)"
   ]
  },
  {
   "cell_type": "code",
   "execution_count": 5,
   "metadata": {},
   "outputs": [
    {
     "name": "stdout",
     "output_type": "stream",
     "text": [
      "20580 70432 91012\n"
     ]
    },
    {
     "data": {
      "text/html": [
       "<div>\n",
       "<style scoped>\n",
       "    .dataframe tbody tr th:only-of-type {\n",
       "        vertical-align: middle;\n",
       "    }\n",
       "\n",
       "    .dataframe tbody tr th {\n",
       "        vertical-align: top;\n",
       "    }\n",
       "\n",
       "    .dataframe thead th {\n",
       "        text-align: right;\n",
       "    }\n",
       "</style>\n",
       "<table border=\"1\" class=\"dataframe\">\n",
       "  <thead>\n",
       "    <tr style=\"text-align: right;\">\n",
       "      <th></th>\n",
       "      <th>breed</th>\n",
       "      <th>imagePath</th>\n",
       "    </tr>\n",
       "  </thead>\n",
       "  <tbody>\n",
       "    <tr>\n",
       "      <th>9425</th>\n",
       "      <td>german_short-haired_pointer</td>\n",
       "      <td>dog-breeds-data/images/Images/n02100236-German...</td>\n",
       "    </tr>\n",
       "    <tr>\n",
       "      <th>63543</th>\n",
       "      <td>golden_retriever</td>\n",
       "      <td>dog-breeds-data-2/classes/5355-n000126-golden_...</td>\n",
       "    </tr>\n",
       "    <tr>\n",
       "      <th>17269</th>\n",
       "      <td>appenzeller</td>\n",
       "      <td>dog-breeds-data/images/Images/n02107908-Appenz...</td>\n",
       "    </tr>\n",
       "    <tr>\n",
       "      <th>39036</th>\n",
       "      <td>samoyed</td>\n",
       "      <td>dog-breeds-data-2/classes/2192-n000088-Samoyed...</td>\n",
       "    </tr>\n",
       "    <tr>\n",
       "      <th>44574</th>\n",
       "      <td>chinese_rural_dog</td>\n",
       "      <td>dog-breeds-data-2/classes/3336-n000121-chinese...</td>\n",
       "    </tr>\n",
       "  </tbody>\n",
       "</table>\n",
       "</div>"
      ],
      "text/plain": [
       "                             breed  \\\n",
       "9425   german_short-haired_pointer   \n",
       "63543             golden_retriever   \n",
       "17269                  appenzeller   \n",
       "39036                      samoyed   \n",
       "44574            chinese_rural_dog   \n",
       "\n",
       "                                               imagePath  \n",
       "9425   dog-breeds-data/images/Images/n02100236-German...  \n",
       "63543  dog-breeds-data-2/classes/5355-n000126-golden_...  \n",
       "17269  dog-breeds-data/images/Images/n02107908-Appenz...  \n",
       "39036  dog-breeds-data-2/classes/2192-n000088-Samoyed...  \n",
       "44574  dog-breeds-data-2/classes/3336-n000121-chinese...  "
      ]
     },
     "execution_count": 5,
     "metadata": {},
     "output_type": "execute_result"
    }
   ],
   "source": [
    "project_dir = os.getcwd()\n",
    "data_dir = join(project_dir, \"dog-breeds-data\", \"images\", \"Images\")\n",
    "csv_file = join(project_dir, \"dog-breeds-data\", \"index.csv\")\n",
    "tsinghua_data_dir = join(project_dir, \"dog-breeds-data-2\", \"classes\")\n",
    "tsinghua_csv_file = join(project_dir, \"dog-breeds-data-2\", \"index.csv\")\n",
    "\n",
    "df1, df2 = pd.read_csv(csv_file), pd.read_csv(tsinghua_csv_file)\n",
    "df = pd.concat([df1, df2])\n",
    "df = df.sample(frac=1)\n",
    "\n",
    "print(len(df1), len(df2), len(df))\n",
    "\n",
    "df.head()"
   ]
  },
  {
   "cell_type": "code",
   "execution_count": 110,
   "metadata": {},
   "outputs": [],
   "source": [
    "# df[\"imagePath\"].replace(\"Shih-Tzu\", \"Shih_Tzu\", inplace=True)\n",
    "# df.to_csv(csv_file, index=False)"
   ]
  },
  {
   "cell_type": "code",
   "execution_count": 104,
   "metadata": {},
   "outputs": [
    {
     "data": {
      "text/html": [
       "<div>\n",
       "<style scoped>\n",
       "    .dataframe tbody tr th:only-of-type {\n",
       "        vertical-align: middle;\n",
       "    }\n",
       "\n",
       "    .dataframe tbody tr th {\n",
       "        vertical-align: top;\n",
       "    }\n",
       "\n",
       "    .dataframe thead th {\n",
       "        text-align: right;\n",
       "    }\n",
       "</style>\n",
       "<table border=\"1\" class=\"dataframe\">\n",
       "  <thead>\n",
       "    <tr style=\"text-align: right;\">\n",
       "      <th></th>\n",
       "      <th>breed</th>\n",
       "      <th>imagePath</th>\n",
       "    </tr>\n",
       "  </thead>\n",
       "  <tbody>\n",
       "    <tr>\n",
       "      <th>0</th>\n",
       "      <td>fila_braziliero</td>\n",
       "      <td>dog-breeds-data-2/classes/220-n000032-Fila_Bra...</td>\n",
       "    </tr>\n",
       "    <tr>\n",
       "      <th>1</th>\n",
       "      <td>fila_braziliero</td>\n",
       "      <td>dog-breeds-data-2/classes/220-n000032-Fila_Bra...</td>\n",
       "    </tr>\n",
       "    <tr>\n",
       "      <th>2</th>\n",
       "      <td>fila_braziliero</td>\n",
       "      <td>dog-breeds-data-2/classes/220-n000032-Fila_Bra...</td>\n",
       "    </tr>\n",
       "    <tr>\n",
       "      <th>3</th>\n",
       "      <td>fila_braziliero</td>\n",
       "      <td>dog-breeds-data-2/classes/220-n000032-Fila_Bra...</td>\n",
       "    </tr>\n",
       "    <tr>\n",
       "      <th>4</th>\n",
       "      <td>fila_braziliero</td>\n",
       "      <td>dog-breeds-data-2/classes/220-n000032-Fila_Bra...</td>\n",
       "    </tr>\n",
       "  </tbody>\n",
       "</table>\n",
       "</div>"
      ],
      "text/plain": [
       "             breed                                          imagePath\n",
       "0  fila_braziliero  dog-breeds-data-2/classes/220-n000032-Fila_Bra...\n",
       "1  fila_braziliero  dog-breeds-data-2/classes/220-n000032-Fila_Bra...\n",
       "2  fila_braziliero  dog-breeds-data-2/classes/220-n000032-Fila_Bra...\n",
       "3  fila_braziliero  dog-breeds-data-2/classes/220-n000032-Fila_Bra...\n",
       "4  fila_braziliero  dog-breeds-data-2/classes/220-n000032-Fila_Bra..."
      ]
     },
     "execution_count": 104,
     "metadata": {},
     "output_type": "execute_result"
    }
   ],
   "source": [
    "\n",
    "# temp_df = pd.read_csv(tsinghua_csv_file)\n",
    "# temp_df[\"imagePath\"] = 'dog-breeds-data-2/classes/' + temp_df[\"imagePath\"].astype(str)\n",
    "# temp_df.head()"
   ]
  },
  {
   "cell_type": "code",
   "execution_count": 105,
   "metadata": {},
   "outputs": [],
   "source": [
    "# temp_df.to_csv(tsinghua_csv_file, index=False)"
   ]
  },
  {
   "cell_type": "code",
   "execution_count": 118,
   "metadata": {},
   "outputs": [
    {
     "name": "stdout",
     "output_type": "stream",
     "text": [
      "['dog-breeds-data-2/classes/3083-n000117-Bichon_Frise/n145719.jpeg', 'dog-breeds-data-2/classes/3580-n000122-Labrador_retriever/n153839.jpeg', 'dog-breeds-data-2/classes/3083-n000117-Bichon_Frise/n144764.jpeg', 'dog-breeds-data-2/classes/2925-n000114-toy_poodle/n141678.jpg', 'dog-breeds-data-2/classes/1043-n000001-Shiba_Dog/n100156.jpeg', 'dog-breeds-data-2/classes/203-n000015-Staffordshire_bullterrier/n108898.jpeg', 'dog-breeds-data-2/classes/234-n000093-Chinese_Crested_Dog/n127779.jpg', 'dog-breeds-data-2/classes/3336-n000121-chinese_rural_dog/n147564.jpeg', 'dog-breeds-data-2/classes/2909-n000116-Cardigan/n137406.jpeg', 'dog-breeds-data/images/Images/n02097209-standard_schnauzer/n02097209_2810.jpg', 'dog-breeds-data/images/Images/n02089078-black-and-tan_coonhound/n02089078_3648.jpg', 'dog-breeds-data-2/classes/7449-n000128-teddy/n166136.jpeg', 'dog-breeds-data-2/classes/3336-n000121-chinese_rural_dog/n147601.jpeg', 'dog-breeds-data/images/Images/n02088364-beagle/n02088364_11828.jpg', 'dog-breeds-data-2/classes/7449-n000128-teddy/n167210.jpeg', 'dog-breeds-data-2/classes/3083-n000117-Bichon_Frise/n145838.jpeg', 'dog-breeds-data-2/classes/3083-n000117-Bichon_Frise/n144810.jpeg', 'dog-breeds-data-2/classes/257-n000108-Old_English_sheepdog/n133469.jpeg', 'dog-breeds-data-2/classes/1160-n000003-Siberian_husky/n102541.jpeg', 'dog-breeds-data-2/classes/5355-n000126-golden_retriever/n157539.jpg', 'dog-breeds-data-2/classes/215-n000075-Chesapeake_Bay_retriever/n121493.jpg', 'dog-breeds-data-2/classes/2192-n000088-Samoyed/n125933.jpeg', 'dog-breeds-data/images/Images/n02099267-flat_coated_retriever/n02099267_911.jpg', 'dog-breeds-data-2/classes/7449-n000128-teddy/n165742.jpeg', 'dog-breeds-data-2/classes/806-n000129-papillon/n170689.jpg', 'dog-breeds-data-2/classes/3580-n000122-Labrador_retriever/n151665.jpg', 'dog-breeds-data-2/classes/7449-n000128-teddy/n168222.jpeg', 'dog-breeds-data-2/classes/2594-n000109-Border_collie/n135597.jpeg', 'dog-breeds-data-2/classes/1936-n000005-Pomeranian/n106142.jpeg']\r"
     ]
    }
   ],
   "source": [
    "incorrect_preds = [] # prediction, actual\n",
    "paths = []\n",
    "\n",
    "for i, row in df.iterrows():\n",
    "    prediction = predict(join(project_dir, row[\"imagePath\"]))[0][0]\n",
    "    if prediction != row[\"breed\"]:\n",
    "        incorrect_preds.append((prediction, row[\"breed\"]))\n",
    "        paths.append(row[\"imagePath\"])\n",
    "    if len(incorrect_preds) >= 30:\n",
    "        break\n",
    "    print(paths, end='\\r')\n",
    "\n"
   ]
  },
  {
   "cell_type": "code",
   "execution_count": 98,
   "metadata": {},
   "outputs": [
    {
     "name": "stdout",
     "output_type": "stream",
     "text": [
      "# Stanford dataset classes: 120\n",
      "# Tsinghua dataset classes: 130\n",
      "# Common classes: 120\n",
      "\n",
      "Stanford classes not in Tsinghua classes: []\n",
      "\n",
      "Tsinghua classes not in Stanford classes: ['australian_shepherd', 'bichon_frise', 'black_sable', 'cane_carso', 'chinese_crested_dog', 'chinese_rural_dog', 'fila_braziliero', 'japanese_spitzes', 'shiba_dog', 'teddy']\n"
     ]
    }
   ],
   "source": [
    "df = pd.read_csv(csv_file)\n",
    "stanford_classes = sorted(df[\"breed\"].unique())\n",
    "\n",
    "tsinghua_df = pd.read_csv(tsinghua_csv_file)\n",
    "tsinghua_classes = sorted(tsinghua_df[\"breed\"].unique())\n",
    "# tsinghua_classes = sorted([folder.split('-', 2)[-1].lower() for folder in os.listdir(tsinghua_data_dir) \n",
    "#                            if os.path.isdir(join(tsinghua_data_dir, folder))])\n",
    "\n",
    "stanfordSet, tsinghuaSet = set(stanford_classes), set(tsinghua_classes)\n",
    "\n",
    "print(\"# Stanford dataset classes:\", len(stanford_classes))\n",
    "print(\"# Tsinghua dataset classes:\", len(tsinghua_classes))\n",
    "print(\"# Common classes:\", len(stanfordSet.intersection(tsinghuaSet)))\n",
    "\n",
    "print(\"\\nStanford classes not in Tsinghua classes:\", sorted(list(stanfordSet - tsinghuaSet)))\n",
    "print(\"\\nTsinghua classes not in Stanford classes:\", sorted(list(tsinghuaSet - stanfordSet)))"
   ]
  },
  {
   "cell_type": "code",
   "execution_count": 108,
   "metadata": {},
   "outputs": [
    {
     "name": "stdout",
     "output_type": "stream",
     "text": [
      "n02086240-Shih_Tzu\n"
     ]
    }
   ],
   "source": [
    "for folder in os.listdir(data_dir):\n",
    "    if \"Shi\" in folder:\n",
    "        print(folder)"
   ]
  },
  {
   "cell_type": "code",
   "execution_count": 91,
   "metadata": {},
   "outputs": [
    {
     "name": "stdout",
     "output_type": "stream",
     "text": [
      "225-n000062-tan_coonhound\n",
      "['affenpinscher', 'afghan_hound', 'african_hunting_dog', 'airedale', 'american_staffordshire_terrier', 'appenzeller', 'australian_shepherd', 'australian_terrier', 'basenji', 'basset', 'beagle', 'bedlington_terrier', 'bernese_mountain_dog', 'bichon_frise', 'black_sable', 'blenheim_spaniel', 'bloodhound', 'bluetick', 'border_collie', 'border_terrier', 'borzoi', 'boston_bull', 'bouvier_des_flandres', 'boxer', 'brabancon_griffon', 'briard', 'brittany_spaniel', 'bull_mastiff', 'cairn', 'cane_carso', 'cardigan', 'chesapeake_bay_retriever', 'chihuahua', 'chinese_crested_dog', 'chinese_rural_dog', 'chow', 'clumber', 'coated_wheaten_terrier', 'cocker_spaniel', 'collie', 'curly_coated_retriever', 'dandie_dinmont', 'dhole', 'dingo', 'doberman', 'english_foxhound', 'english_setter', 'english_springer', 'entlebucher', 'eskimo_dog', 'fila_braziliero', 'flat_coated_retriever', 'french_bulldog', 'german_shepherd', 'german_short-haired_pointer', 'giant_schnauzer', 'golden_retriever', 'gordon_setter', 'great_dane', 'great_pyrenees', 'greater_swiss_mountain_dog', 'groenendael', 'haired_fox_terrier', 'ibizan_hound', 'irish_setter', 'irish_terrier', 'irish_water_spaniel', 'irish_wolfhound', 'italian_greyhound', 'japanese_spaniel', 'japanese_spitzes', 'keeshond', 'kelpie', 'kerry_blue_terrier', 'komondor', 'kuvasz', 'labrador_retriever', 'lakeland_terrier', 'leonberg', 'lhasa', 'malamute', 'malinois', 'maltese_dog', 'mexican_hairless', 'miniature_pinscher', 'miniature_poodle', 'miniature_schnauzer', 'newfoundland', 'norfolk_terrier', 'norwegian_elkhound', 'norwich_terrier', 'old_english_sheepdog', 'otterhound', 'papillon', 'pekinese', 'pembroke', 'pomeranian', 'pug', 'redbone', 'rhodesian_ridgeback', 'rottweiler', 'saint_bernard', 'saluki', 'samoyed', 'schipperke', 'scotch_terrier', 'scottish_deerhound', 'sealyham_terrier', 'shetland_sheepdog', 'shiba_dog', 'shih_tzu', 'siberian_husky', 'silky_terrier', 'staffordshire_bullterrier', 'standard_poodle', 'standard_schnauzer', 'sussex_spaniel', 'tan_coonhound', 'teddy', 'tibetan_mastiff', 'tibetan_terrier', 'toy_poodle', 'toy_terrier', 'vizsla', 'walker_hound', 'weimaraner', 'welsh_springer_spaniel', 'west_highland_white_terrier', 'whippet', 'yorkshire_terrier']\n"
     ]
    }
   ],
   "source": [
    "tsinghua_classes = sorted([folder.split('-', 2)[-1].lower() for folder in os.listdir(tsinghua_data_dir) \n",
    "                           if os.path.isdir(join(tsinghua_data_dir, folder))])\n",
    "print(tsinghua_classes)"
   ]
  },
  {
   "cell_type": "code",
   "execution_count": 111,
   "metadata": {},
   "outputs": [
    {
     "name": "stdout",
     "output_type": "stream",
     "text": [
      "['affenpinscher', 'afghan_hound', 'african_hunting_dog', 'airedale', 'american_staffordshire_terrier', 'appenzeller', 'australian_terrier', 'basenji', 'basset', 'beagle', 'bedlington_terrier', 'bernese_mountain_dog', 'black-and-tan_coonhound', 'blenheim_spaniel', 'bloodhound', 'bluetick', 'border_collie', 'border_terrier', 'borzoi', 'boston_bull', 'bouvier_des_flandres', 'boxer', 'brabancon_griffon', 'briard', 'brittany_spaniel', 'bull_mastiff', 'cairn', 'cardigan', 'chesapeake_bay_retriever', 'chihuahua', 'chow', 'clumber', 'cocker_spaniel', 'collie', 'curly_coated_retriever', 'dandie_dinmont', 'dhole', 'dingo', 'doberman', 'english_foxhound', 'english_setter', 'english_springer', 'entlebucher', 'eskimo_dog', 'flat_coated_retriever', 'french_bulldog', 'german_shepherd', 'german_short-haired_pointer', 'giant_schnauzer', 'golden_retriever', 'gordon_setter', 'great_dane', 'great_pyrenees', 'greater_swiss_mountain_dog', 'groenendael', 'ibizan_hound', 'irish_setter', 'irish_terrier', 'irish_water_spaniel', 'irish_wolfhound', 'italian_greyhound', 'japanese_spaniel', 'keeshond', 'kelpie', 'kerry_blue_terrier', 'komondor', 'kuvasz', 'labrador_retriever', 'lakeland_terrier', 'leonberg', 'lhasa', 'malamute', 'malinois', 'maltese_dog', 'mexican_hairless', 'miniature_pinscher', 'miniature_poodle', 'miniature_schnauzer', 'newfoundland', 'norfolk_terrier', 'norwegian_elkhound', 'norwich_terrier', 'old_english_sheepdog', 'otterhound', 'papillon', 'pekinese', 'pembroke', 'pomeranian', 'pug', 'redbone', 'rhodesian_ridgeback', 'rottweiler', 'saint_bernard', 'saluki', 'samoyed', 'schipperke', 'scotch_terrier', 'scottish_deerhound', 'sealyham_terrier', 'shetland_sheepdog', 'shih_tzu', 'siberian_husky', 'silky_terrier', 'soft-coated_wheaten_terrier', 'staffordshire_bullterrier', 'standard_poodle', 'standard_schnauzer', 'sussex_spaniel', 'tibetan_mastiff', 'tibetan_terrier', 'toy_poodle', 'toy_terrier', 'vizsla', 'walker_hound', 'weimaraner', 'welsh_springer_spaniel', 'west_highland_white_terrier', 'whippet', 'wire_haired_fox_terrier', 'yorkshire_terrier']\r"
     ]
    }
   ],
   "source": [
    "# # create index csv for stanford dataset\n",
    "# new_df = pd.DataFrame(columns=[\"breed\", \"imagePath\"])\n",
    "\n",
    "# for folder in os.listdir(data_dir):\n",
    "#     if not os.path.isdir(join(data_dir, folder)): continue\n",
    "\n",
    "#     for fn in os.listdir(join(data_dir, folder)):\n",
    "#         if fn[0] == '.': continue\n",
    "\n",
    "#         temp_df = {\"breed\": folder.split('-', 1)[-1].lower(), \"imagePath\": join(\"dog-breeds-data\", \"images\", \"Images\", folder, fn)}\n",
    "#         new_df = new_df.append(temp_df, ignore_index=True)\n",
    "#     print(sorted(new_df[\"breed\"].unique()), end='\\r')\n",
    "\n",
    "# new_df.to_csv(join(project_dir, \"index.csv\"), index=False)\n",
    "\n"
   ]
  },
  {
   "cell_type": "code",
   "execution_count": 6,
   "metadata": {},
   "outputs": [
    {
     "name": "stdout",
     "output_type": "stream",
     "text": [
      "['affenpinscher', 'afghan_hound', 'african_hunting_dog', 'airedale', 'american_staffordshire_terrier', 'appenzeller', 'australian_shepherd', 'australian_terrier', 'basenji', 'basset', 'beagle', 'bedlington_terrier', 'bernese_mountain_dog', 'bichon_frise', 'black-and-tan_coonhound', 'black_sable', 'blenheim_spaniel', 'bloodhound', 'bluetick', 'border_collie', 'border_terrier', 'borzoi', 'boston_bull', 'bouvier_des_flandres', 'boxer', 'brabancon_griffon', 'briard', 'brittany_spaniel', 'bull_mastiff', 'cairn', 'cane_carso', 'cardigan', 'chesapeake_bay_retriever', 'chihuahua', 'chinese_crested_dog', 'chinese_rural_dog', 'chow', 'clumber', 'cocker_spaniel', 'collie', 'curly_coated_retriever', 'dandie_dinmont', 'dhole', 'dingo', 'doberman', 'english_foxhound', 'english_setter', 'english_springer', 'entlebucher', 'eskimo_dog', 'fila_braziliero', 'flat_coated_retriever', 'french_bulldog', 'german_shepherd', 'german_short-haired_pointer', 'giant_schnauzer', 'golden_retriever', 'gordon_setter', 'great_dane', 'great_pyrenees', 'greater_swiss_mountain_dog', 'groenendael', 'ibizan_hound', 'irish_setter', 'irish_terrier', 'irish_water_spaniel', 'irish_wolfhound', 'italian_greyhound', 'japanese_spaniel', 'japanese_spitzes', 'keeshond', 'kelpie', 'kerry_blue_terrier', 'komondor', 'kuvasz', 'labrador_retriever', 'lakeland_terrier', 'leonberg', 'lhasa', 'malamute', 'malinois', 'maltese_dog', 'mexican_hairless', 'miniature_pinscher', 'miniature_poodle', 'miniature_schnauzer', 'newfoundland', 'norfolk_terrier', 'norwegian_elkhound', 'norwich_terrier', 'old_english_sheepdog', 'otterhound', 'papillon', 'pekinese', 'pembroke', 'pomeranian', 'pug', 'redbone', 'rhodesian_ridgeback', 'rottweiler', 'saint_bernard', 'saluki', 'samoyed', 'schipperke', 'scotch_terrier', 'scottish_deerhound', 'sealyham_terrier', 'shetland_sheepdog', 'shiba_dog', 'shih_tzu', 'siberian_husky', 'silky_terrier', 'soft-coated_wheaten_terrier', 'staffordshire_bullterrier', 'standard_poodle', 'standard_schnauzer', 'sussex_spaniel', 'teddy', 'tibetan_mastiff', 'tibetan_terrier', 'toy_poodle', 'toy_terrier', 'vizsla', 'walker_hound', 'weimaraner', 'welsh_springer_spaniel', 'west_highland_white_terrier', 'whippet', 'wire_haired_fox_terrier', 'yorkshire_terrier']\r"
     ]
    }
   ],
   "source": [
    "# create index csv for tsinghua dataset\n",
    "new_df = pd.DataFrame(columns=[\"breed\", \"imagePath\"])\n",
    "\n",
    "for folder in os.listdir(tsinghua_data_dir):\n",
    "    if not os.path.isdir(join(tsinghua_data_dir, folder)): continue\n",
    "\n",
    "    for fn in os.listdir(join(tsinghua_data_dir, folder)):\n",
    "        if fn[0] == '.': continue\n",
    "\n",
    "        temp_df = {\"breed\": folder.split('-', 2)[-1].lower(), \"imagePath\": join(\"dog-breeds-data-2\", \"classes\", folder, fn)}\n",
    "        new_df = new_df.append(temp_df, ignore_index=True)\n",
    "    print(sorted(new_df[\"breed\"].unique()), end='\\r')\n",
    "\n",
    "new_df.to_csv(join(project_dir, \"index.csv\"), index=False)"
   ]
  },
  {
   "cell_type": "code",
   "execution_count": 77,
   "metadata": {},
   "outputs": [
    {
     "data": {
      "text/plain": [
       "['german_short-haired_pointer']"
      ]
     },
     "execution_count": 77,
     "metadata": {},
     "output_type": "execute_result"
    }
   ],
   "source": [
    "a = sorted(new_df[\"breed\"].unique())\n",
    "b = [x for x in a if '-' in x]\n",
    "b"
   ]
  },
  {
   "cell_type": "code",
   "execution_count": null,
   "metadata": {},
   "outputs": [],
   "source": []
  }
 ],
 "metadata": {
  "kernelspec": {
   "display_name": "project3_kernel",
   "language": "python",
   "name": "project3_kernel"
  },
  "language_info": {
   "codemirror_mode": {
    "name": "ipython",
    "version": 3
   },
   "file_extension": ".py",
   "mimetype": "text/x-python",
   "name": "python",
   "nbconvert_exporter": "python",
   "pygments_lexer": "ipython3",
   "version": "3.8.5"
  },
  "orig_nbformat": 4,
  "vscode": {
   "interpreter": {
    "hash": "145dd32e5df20236eb934384a78ad13467cb25a8d6e2afd8b306988d9db7c513"
   }
  }
 },
 "nbformat": 4,
 "nbformat_minor": 2
}
